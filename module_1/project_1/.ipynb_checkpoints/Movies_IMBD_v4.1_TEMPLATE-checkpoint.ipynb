{
 "cells": [
  {
   "cell_type": "code",
   "execution_count": 1,
   "metadata": {
    "_cell_guid": "b1076dfc-b9ad-4769-8c92-a6c4dae69d19",
    "_uuid": "8f2839f25d086af736a60e9eeb907d3b93b6e0e5",
    "colab": {},
    "colab_type": "code",
    "id": "U2D2gTdJVp90"
   },
   "outputs": [],
   "source": [
    "import numpy as np\n",
    "import pandas as pd\n",
    "import seaborn as sns\n",
    "import matplotlib.pyplot as plt\n",
    "from collections import Counter"
   ]
  },
  {
   "cell_type": "code",
   "execution_count": 3,
   "metadata": {
    "_cell_guid": "79c7e3d0-c299-4dcb-8224-4455121ee9b0",
    "_uuid": "d629ff2d2480ee46fbb7e2d37f6b5fab8052498a",
    "colab": {},
    "colab_type": "code",
    "id": "oyGfxL3eVp9-"
   },
   "outputs": [
    {
     "data": {
      "text/html": [
       "<div>\n",
       "<style scoped>\n",
       "    .dataframe tbody tr th:only-of-type {\n",
       "        vertical-align: middle;\n",
       "    }\n",
       "\n",
       "    .dataframe tbody tr th {\n",
       "        vertical-align: top;\n",
       "    }\n",
       "\n",
       "    .dataframe thead th {\n",
       "        text-align: right;\n",
       "    }\n",
       "</style>\n",
       "<table border=\"1\" class=\"dataframe\">\n",
       "  <thead>\n",
       "    <tr style=\"text-align: right;\">\n",
       "      <th></th>\n",
       "      <th>imdb_id</th>\n",
       "      <th>budget</th>\n",
       "      <th>revenue</th>\n",
       "      <th>original_title</th>\n",
       "      <th>cast</th>\n",
       "      <th>director</th>\n",
       "      <th>tagline</th>\n",
       "      <th>overview</th>\n",
       "      <th>runtime</th>\n",
       "      <th>genres</th>\n",
       "      <th>production_companies</th>\n",
       "      <th>release_date</th>\n",
       "      <th>vote_average</th>\n",
       "      <th>release_year</th>\n",
       "    </tr>\n",
       "  </thead>\n",
       "  <tbody>\n",
       "    <tr>\n",
       "      <th>962</th>\n",
       "      <td>tt0259288</td>\n",
       "      <td>60000000</td>\n",
       "      <td>52322400</td>\n",
       "      <td>Dragonfly</td>\n",
       "      <td>Kevin Costner|Joe Morton|Ron Rifkin|Susanna Th...</td>\n",
       "      <td>Tom Shadyac</td>\n",
       "      <td>When someone you love dies... are they gone fo...</td>\n",
       "      <td>A grieving doctor is being contacted by his la...</td>\n",
       "      <td>104</td>\n",
       "      <td>Drama</td>\n",
       "      <td>Universal Pictures|Spyglass Entertainment|Shad...</td>\n",
       "      <td>2/22/2002</td>\n",
       "      <td>6.2</td>\n",
       "      <td>2002</td>\n",
       "    </tr>\n",
       "    <tr>\n",
       "      <th>1354</th>\n",
       "      <td>tt0400497</td>\n",
       "      <td>50000000</td>\n",
       "      <td>66002004</td>\n",
       "      <td>Herbie Fully Loaded</td>\n",
       "      <td>Lindsay Lohan|Michael Keaton|Matt Dillon|Breck...</td>\n",
       "      <td>Angela Robinson</td>\n",
       "      <td>Start your engines...</td>\n",
       "      <td>Maggie Peyton, the new owner of Number 53 - th...</td>\n",
       "      <td>101</td>\n",
       "      <td>Comedy|Family|Adventure|Fantasy|Romance</td>\n",
       "      <td>Walt Disney Pictures|Robert Simonds Productions</td>\n",
       "      <td>6/18/2005</td>\n",
       "      <td>5.2</td>\n",
       "      <td>2005</td>\n",
       "    </tr>\n",
       "    <tr>\n",
       "      <th>1436</th>\n",
       "      <td>tt0381061</td>\n",
       "      <td>150000000</td>\n",
       "      <td>599045960</td>\n",
       "      <td>Casino Royale</td>\n",
       "      <td>Daniel Craig|Eva Green|Mads Mikkelsen|Judi Den...</td>\n",
       "      <td>Martin Campbell</td>\n",
       "      <td>Everyone has a past. Every legend has a beginn...</td>\n",
       "      <td>Le Chiffre, a banker to the world's terrorists...</td>\n",
       "      <td>144</td>\n",
       "      <td>Adventure|Action|Thriller</td>\n",
       "      <td>Eon Productions</td>\n",
       "      <td>11/14/2006</td>\n",
       "      <td>7.1</td>\n",
       "      <td>2006</td>\n",
       "    </tr>\n",
       "    <tr>\n",
       "      <th>20</th>\n",
       "      <td>tt1964418</td>\n",
       "      <td>190000000</td>\n",
       "      <td>209035668</td>\n",
       "      <td>Tomorrowland</td>\n",
       "      <td>Britt Robertson|George Clooney|Raffey Cassidy|...</td>\n",
       "      <td>Brad Bird</td>\n",
       "      <td>Imagine a world where nothing is impossible.</td>\n",
       "      <td>Bound by a shared destiny, a bright, optimisti...</td>\n",
       "      <td>130</td>\n",
       "      <td>Action|Family|Science Fiction|Adventure|Mystery</td>\n",
       "      <td>Walt Disney Pictures|Babieka|A113</td>\n",
       "      <td>5/19/2015</td>\n",
       "      <td>6.2</td>\n",
       "      <td>2015</td>\n",
       "    </tr>\n",
       "    <tr>\n",
       "      <th>1084</th>\n",
       "      <td>tt0266697</td>\n",
       "      <td>30000000</td>\n",
       "      <td>180949000</td>\n",
       "      <td>Kill Bill: Vol. 1</td>\n",
       "      <td>Uma Thurman|Lucy Liu|Vivica A. Fox|Daryl Hanna...</td>\n",
       "      <td>Quentin Tarantino</td>\n",
       "      <td>Go for the kill.</td>\n",
       "      <td>An assassin is shot at the altar by her ruthle...</td>\n",
       "      <td>111</td>\n",
       "      <td>Action|Crime</td>\n",
       "      <td>Miramax Films|A Band Apart|Super Cool ManChu</td>\n",
       "      <td>10/10/2003</td>\n",
       "      <td>7.6</td>\n",
       "      <td>2003</td>\n",
       "    </tr>\n",
       "  </tbody>\n",
       "</table>\n",
       "</div>"
      ],
      "text/plain": [
       "        imdb_id     budget    revenue       original_title  \\\n",
       "962   tt0259288   60000000   52322400            Dragonfly   \n",
       "1354  tt0400497   50000000   66002004  Herbie Fully Loaded   \n",
       "1436  tt0381061  150000000  599045960        Casino Royale   \n",
       "20    tt1964418  190000000  209035668         Tomorrowland   \n",
       "1084  tt0266697   30000000  180949000    Kill Bill: Vol. 1   \n",
       "\n",
       "                                                   cast           director  \\\n",
       "962   Kevin Costner|Joe Morton|Ron Rifkin|Susanna Th...        Tom Shadyac   \n",
       "1354  Lindsay Lohan|Michael Keaton|Matt Dillon|Breck...    Angela Robinson   \n",
       "1436  Daniel Craig|Eva Green|Mads Mikkelsen|Judi Den...    Martin Campbell   \n",
       "20    Britt Robertson|George Clooney|Raffey Cassidy|...          Brad Bird   \n",
       "1084  Uma Thurman|Lucy Liu|Vivica A. Fox|Daryl Hanna...  Quentin Tarantino   \n",
       "\n",
       "                                                tagline  \\\n",
       "962   When someone you love dies... are they gone fo...   \n",
       "1354                              Start your engines...   \n",
       "1436  Everyone has a past. Every legend has a beginn...   \n",
       "20         Imagine a world where nothing is impossible.   \n",
       "1084                                   Go for the kill.   \n",
       "\n",
       "                                               overview  runtime  \\\n",
       "962   A grieving doctor is being contacted by his la...      104   \n",
       "1354  Maggie Peyton, the new owner of Number 53 - th...      101   \n",
       "1436  Le Chiffre, a banker to the world's terrorists...      144   \n",
       "20    Bound by a shared destiny, a bright, optimisti...      130   \n",
       "1084  An assassin is shot at the altar by her ruthle...      111   \n",
       "\n",
       "                                               genres  \\\n",
       "962                                             Drama   \n",
       "1354          Comedy|Family|Adventure|Fantasy|Romance   \n",
       "1436                        Adventure|Action|Thriller   \n",
       "20    Action|Family|Science Fiction|Adventure|Mystery   \n",
       "1084                                     Action|Crime   \n",
       "\n",
       "                                   production_companies release_date  \\\n",
       "962   Universal Pictures|Spyglass Entertainment|Shad...    2/22/2002   \n",
       "1354    Walt Disney Pictures|Robert Simonds Productions    6/18/2005   \n",
       "1436                                    Eon Productions   11/14/2006   \n",
       "20                    Walt Disney Pictures|Babieka|A113    5/19/2015   \n",
       "1084       Miramax Films|A Band Apart|Super Cool ManChu   10/10/2003   \n",
       "\n",
       "      vote_average  release_year  \n",
       "962            6.2          2002  \n",
       "1354           5.2          2005  \n",
       "1436           7.1          2006  \n",
       "20             6.2          2015  \n",
       "1084           7.6          2003  "
      ]
     },
     "execution_count": 3,
     "metadata": {},
     "output_type": "execute_result"
    }
   ],
   "source": [
    "data = pd.read_csv('movie_bd_v5.csv')\n",
    "data.sample(5)"
   ]
  },
  {
   "cell_type": "code",
   "execution_count": 8,
   "metadata": {
    "colab": {},
    "colab_type": "code",
    "id": "CoYUnagMVp-C"
   },
   "outputs": [
    {
     "data": {
      "text/html": [
       "<div>\n",
       "<style scoped>\n",
       "    .dataframe tbody tr th:only-of-type {\n",
       "        vertical-align: middle;\n",
       "    }\n",
       "\n",
       "    .dataframe tbody tr th {\n",
       "        vertical-align: top;\n",
       "    }\n",
       "\n",
       "    .dataframe thead th {\n",
       "        text-align: right;\n",
       "    }\n",
       "</style>\n",
       "<table border=\"1\" class=\"dataframe\">\n",
       "  <thead>\n",
       "    <tr style=\"text-align: right;\">\n",
       "      <th></th>\n",
       "      <th>budget</th>\n",
       "      <th>revenue</th>\n",
       "      <th>runtime</th>\n",
       "      <th>vote_average</th>\n",
       "      <th>release_year</th>\n",
       "    </tr>\n",
       "  </thead>\n",
       "  <tbody>\n",
       "    <tr>\n",
       "      <th>count</th>\n",
       "      <td>1.889000e+03</td>\n",
       "      <td>1.889000e+03</td>\n",
       "      <td>1889.000000</td>\n",
       "      <td>1889.000000</td>\n",
       "      <td>1889.000000</td>\n",
       "    </tr>\n",
       "    <tr>\n",
       "      <th>mean</th>\n",
       "      <td>5.431083e+07</td>\n",
       "      <td>1.553653e+08</td>\n",
       "      <td>109.658549</td>\n",
       "      <td>6.140762</td>\n",
       "      <td>2007.860773</td>\n",
       "    </tr>\n",
       "    <tr>\n",
       "      <th>std</th>\n",
       "      <td>4.858721e+07</td>\n",
       "      <td>2.146698e+08</td>\n",
       "      <td>18.017041</td>\n",
       "      <td>0.764763</td>\n",
       "      <td>4.468841</td>\n",
       "    </tr>\n",
       "    <tr>\n",
       "      <th>min</th>\n",
       "      <td>5.000000e+06</td>\n",
       "      <td>2.033165e+06</td>\n",
       "      <td>63.000000</td>\n",
       "      <td>3.300000</td>\n",
       "      <td>2000.000000</td>\n",
       "    </tr>\n",
       "    <tr>\n",
       "      <th>25%</th>\n",
       "      <td>2.000000e+07</td>\n",
       "      <td>3.456058e+07</td>\n",
       "      <td>97.000000</td>\n",
       "      <td>5.600000</td>\n",
       "      <td>2004.000000</td>\n",
       "    </tr>\n",
       "    <tr>\n",
       "      <th>50%</th>\n",
       "      <td>3.800000e+07</td>\n",
       "      <td>8.361541e+07</td>\n",
       "      <td>107.000000</td>\n",
       "      <td>6.100000</td>\n",
       "      <td>2008.000000</td>\n",
       "    </tr>\n",
       "    <tr>\n",
       "      <th>75%</th>\n",
       "      <td>7.200000e+07</td>\n",
       "      <td>1.782626e+08</td>\n",
       "      <td>120.000000</td>\n",
       "      <td>6.600000</td>\n",
       "      <td>2012.000000</td>\n",
       "    </tr>\n",
       "    <tr>\n",
       "      <th>max</th>\n",
       "      <td>3.800000e+08</td>\n",
       "      <td>2.781506e+09</td>\n",
       "      <td>214.000000</td>\n",
       "      <td>8.100000</td>\n",
       "      <td>2015.000000</td>\n",
       "    </tr>\n",
       "  </tbody>\n",
       "</table>\n",
       "</div>"
      ],
      "text/plain": [
       "             budget       revenue      runtime  vote_average  release_year\n",
       "count  1.889000e+03  1.889000e+03  1889.000000   1889.000000   1889.000000\n",
       "mean   5.431083e+07  1.553653e+08   109.658549      6.140762   2007.860773\n",
       "std    4.858721e+07  2.146698e+08    18.017041      0.764763      4.468841\n",
       "min    5.000000e+06  2.033165e+06    63.000000      3.300000   2000.000000\n",
       "25%    2.000000e+07  3.456058e+07    97.000000      5.600000   2004.000000\n",
       "50%    3.800000e+07  8.361541e+07   107.000000      6.100000   2008.000000\n",
       "75%    7.200000e+07  1.782626e+08   120.000000      6.600000   2012.000000\n",
       "max    3.800000e+08  2.781506e+09   214.000000      8.100000   2015.000000"
      ]
     },
     "execution_count": 8,
     "metadata": {},
     "output_type": "execute_result"
    }
   ],
   "source": [
    "data.describe()"
   ]
  },
  {
   "cell_type": "markdown",
   "metadata": {
    "colab_type": "text",
    "id": "DTIt7ezGVp-G"
   },
   "source": [
    "# Предобработка"
   ]
  },
  {
   "cell_type": "code",
   "execution_count": 5,
   "metadata": {
    "colab": {},
    "colab_type": "code",
    "id": "jNb40DwKVp-H"
   },
   "outputs": [],
   "source": [
    "answers = {} # создадим словарь для ответов\n",
    "\n",
    "# тут другие ваши предобработки колонок например:\n",
    "\n",
    "#the time given in the dataset is in string format.\n",
    "#So we need to change this in datetime format\n",
    "# ..."
   ]
  },
  {
   "cell_type": "markdown",
   "metadata": {
    "colab_type": "text",
    "id": "YxZaH-nPVp-L"
   },
   "source": [
    "# 1. У какого фильма из списка самый большой бюджет?"
   ]
  },
  {
   "cell_type": "markdown",
   "metadata": {
    "colab_type": "text",
    "id": "Nd-G5gX6Vp-M"
   },
   "source": [
    "Использовать варианты ответов в коде решения запрещено.    \n",
    "Вы думаете и в жизни у вас будут варианты ответов?)"
   ]
  },
  {
   "cell_type": "code",
   "execution_count": 6,
   "metadata": {
    "colab": {},
    "colab_type": "code",
    "id": "uVnXAY5RVp-O"
   },
   "outputs": [
    {
     "data": {
      "text/plain": [
       "723    Pirates of the Caribbean: On Stranger Tides\n",
       "Name: original_title, dtype: object"
      ]
     },
     "metadata": {},
     "output_type": "display_data"
    }
   ],
   "source": [
    "# в словарь вставляем номер вопроса и ваш ответ на него\n",
    "# Пример: \n",
    "answers['1'] = '2. Spider-Man 3 (tt0413300)'\n",
    "# запишите свой вариант ответа\n",
    "\n",
    "sorted_data = data.sort_values(['budget'], ascending = False)\n",
    "display(sorted_data.original_title.head(1))\n",
    "\n",
    "answers['1'] = '...'\n",
    "# если ответили верно, можете добавить комментарий со значком \"+\""
   ]
  },
  {
   "cell_type": "code",
   "execution_count": 7,
   "metadata": {
    "colab": {},
    "colab_type": "code",
    "id": "dZwb3m28Vp-S"
   },
   "outputs": [
    {
     "data": {
      "text/plain": [
       "'Pirates of the Caribbean: On Stranger Tides'"
      ]
     },
     "metadata": {},
     "output_type": "display_data"
    }
   ],
   "source": [
    "# тут пишем ваш код для решения данного вопроса: +\n",
    "answers['1'] = data[data.budget == data.budget.max()].original_title.values[0]\n",
    "display(answers['1'])"
   ]
  },
  {
   "cell_type": "markdown",
   "metadata": {
    "colab_type": "text",
    "id": "K7L3nbRXVp-X"
   },
   "source": [
    "ВАРИАНТ 2"
   ]
  },
  {
   "cell_type": "code",
   "execution_count": 10,
   "metadata": {
    "colab": {},
    "colab_type": "code",
    "id": "OGaoQI7rVp-X"
   },
   "outputs": [
    {
     "data": {
      "text/plain": [
       "'Pirates of the Caribbean: On Stranger Tides'"
      ]
     },
     "metadata": {},
     "output_type": "display_data"
    }
   ],
   "source": [
    "# можно добавлять разные варианты решения\n",
    "answers['1'] = data.sort_values(['budget'], ascending = False).original_title.values[0]\n",
    "display(answers['1'])"
   ]
  },
  {
   "cell_type": "markdown",
   "metadata": {
    "colab_type": "text",
    "id": "FNRbbI3vVp-c"
   },
   "source": [
    "# 2. Какой из фильмов самый длительный (в минутах)?"
   ]
  },
  {
   "cell_type": "code",
   "execution_count": null,
   "metadata": {
    "colab": {},
    "colab_type": "code",
    "id": "vHAoEXNTVp-d"
   },
   "outputs": [],
   "source": [
    "# думаю логику работы с этим словарем вы уже поняли, \n",
    "# по этому не буду больше его дублировать\n",
    "answers['2'] = '...'"
   ]
  },
  {
   "cell_type": "code",
   "execution_count": 16,
   "metadata": {
    "colab": {},
    "colab_type": "code",
    "id": "ot-VX2XrVp-g"
   },
   "outputs": [
    {
     "data": {
      "text/plain": [
       "'Gods and Generals'"
      ]
     },
     "metadata": {},
     "output_type": "display_data"
    }
   ],
   "source": [
    "answers['2'] = data[data.runtime == data.runtime.max()].original_title.values[0]\n",
    "display(answers['2'])"
   ]
  },
  {
   "cell_type": "markdown",
   "metadata": {
    "colab_type": "text",
    "id": "bapLlpW8Vp-k"
   },
   "source": [
    "# 3. Какой из фильмов самый короткий (в минутах)?\n",
    "\n",
    "\n",
    "\n"
   ]
  },
  {
   "cell_type": "code",
   "execution_count": 19,
   "metadata": {
    "colab": {},
    "colab_type": "code",
    "id": "YBxaSHuAVp-l"
   },
   "outputs": [
    {
     "data": {
      "text/plain": [
       "'Winnie the Pooh'"
      ]
     },
     "metadata": {},
     "output_type": "display_data"
    }
   ],
   "source": [
    "answers['3'] = data[data.runtime == data.runtime.min()].original_title.values[0]\n",
    "display(answers['3'])"
   ]
  },
  {
   "cell_type": "markdown",
   "metadata": {
    "colab_type": "text",
    "id": "TfQbxbfNVp-p"
   },
   "source": [
    "# 4. Какова средняя длительность фильмов?\n"
   ]
  },
  {
   "cell_type": "code",
   "execution_count": 32,
   "metadata": {
    "colab": {},
    "colab_type": "code",
    "id": "5K6dKZYVVp-q"
   },
   "outputs": [
    {
     "data": {
      "text/plain": [
       "109.6585494970884"
      ]
     },
     "metadata": {},
     "output_type": "display_data"
    }
   ],
   "source": [
    "answers['4'] = data.runtime.mean()\n",
    "display(answers['4'])"
   ]
  },
  {
   "cell_type": "markdown",
   "metadata": {
    "colab_type": "text",
    "id": "r5TvbnT_Vp-u"
   },
   "source": [
    "# 5. Каково медианное значение длительности фильмов? "
   ]
  },
  {
   "cell_type": "code",
   "execution_count": 37,
   "metadata": {
    "colab": {},
    "colab_type": "code",
    "id": "iBROplKnVp-v"
   },
   "outputs": [
    {
     "data": {
      "text/plain": [
       "107.0"
      ]
     },
     "metadata": {},
     "output_type": "display_data"
    }
   ],
   "source": [
    "answers['5'] = data.runtime.median()\n",
    "display(answers['5'])"
   ]
  },
  {
   "cell_type": "markdown",
   "metadata": {
    "colab_type": "text",
    "id": "39P-deDSVp-y"
   },
   "source": [
    "# 6. Какой самый прибыльный фильм?\n",
    "#### Внимание! Здесь и далее под «прибылью» или «убытками» понимается разность между сборами и бюджетом фильма. (прибыль = сборы - бюджет) в нашем датасете это будет (profit = revenue - budget) "
   ]
  },
  {
   "cell_type": "code",
   "execution_count": 41,
   "metadata": {
    "colab": {},
    "colab_type": "code",
    "id": "UYZh4T9WVp-y"
   },
   "outputs": [
    {
     "data": {
      "text/plain": [
       "'Avatar'"
      ]
     },
     "metadata": {},
     "output_type": "display_data"
    }
   ],
   "source": [
    "# лучше код получения столбца profit вынести в Предобработку что в начале\n",
    "data[\"profit\"] = data.revenue - data.budget\n",
    "answers['6'] = data[data.profit == data.profit.max()].original_title.values[0]\n",
    "display(answers['6'])"
   ]
  },
  {
   "cell_type": "markdown",
   "metadata": {
    "colab_type": "text",
    "id": "M99JmIX4Vp-2"
   },
   "source": [
    "# 7. Какой фильм самый убыточный? "
   ]
  },
  {
   "cell_type": "code",
   "execution_count": 43,
   "metadata": {
    "colab": {},
    "colab_type": "code",
    "id": "w-D2m4XPVp-3"
   },
   "outputs": [
    {
     "data": {
      "text/plain": [
       "'The Lone Ranger'"
      ]
     },
     "metadata": {},
     "output_type": "display_data"
    }
   ],
   "source": [
    "data[\"profit\"] = data.revenue - data.budget\n",
    "answers['7'] = data[data.profit == data.profit.min()].original_title.values[0]\n",
    "display(answers['7'])"
   ]
  },
  {
   "cell_type": "markdown",
   "metadata": {
    "colab_type": "text",
    "id": "wEOM5ERVVp-6"
   },
   "source": [
    "# 8. У скольких фильмов из датасета объем сборов оказался выше бюджета?"
   ]
  },
  {
   "cell_type": "code",
   "execution_count": 48,
   "metadata": {
    "colab": {},
    "colab_type": "code",
    "id": "y00_7HD6Vp-7"
   },
   "outputs": [
    {
     "data": {
      "text/plain": [
       "1478"
      ]
     },
     "metadata": {},
     "output_type": "display_data"
    }
   ],
   "source": [
    "data[\"profit\"] = data.revenue - data.budget\n",
    "answers['8'] = len(data[data.profit > 0])\n",
    "display(answers['8'])"
   ]
  },
  {
   "cell_type": "markdown",
   "metadata": {
    "colab_type": "text",
    "id": "xhpspA9KVp_A"
   },
   "source": [
    "# 9. Какой фильм оказался самым кассовым в 2008 году?"
   ]
  },
  {
   "cell_type": "code",
   "execution_count": 51,
   "metadata": {
    "colab": {},
    "colab_type": "code",
    "id": "MoUyQr9RVp_B"
   },
   "outputs": [
    {
     "data": {
      "text/plain": [
       "'The Dark Knight'"
      ]
     },
     "metadata": {},
     "output_type": "display_data"
    }
   ],
   "source": [
    "answers['9'] = data[data.revenue == data[data.release_year == 2008].revenue.max()].original_title.values[0]\n",
    "display(answers['9'])"
   ]
  },
  {
   "cell_type": "markdown",
   "metadata": {
    "colab_type": "text",
    "id": "Zi4hDKidVp_F"
   },
   "source": [
    "# 10. Самый убыточный фильм за период с 2012 по 2014 г. (включительно)?\n"
   ]
  },
  {
   "cell_type": "code",
   "execution_count": 54,
   "metadata": {
    "colab": {},
    "colab_type": "code",
    "id": "XqyRmufJVp_F"
   },
   "outputs": [
    {
     "data": {
      "text/plain": [
       "'The Lone Ranger'"
      ]
     },
     "metadata": {},
     "output_type": "display_data"
    }
   ],
   "source": [
    "answers['10'] = data[(2012 <= data.release_year) & (data.release_year <= 2014)].sort_values(['profit']).original_title.values[0]\n",
    "display(answers['10'])"
   ]
  },
  {
   "cell_type": "markdown",
   "metadata": {
    "colab_type": "text",
    "id": "EA7Sa9dkVp_I"
   },
   "source": [
    "# 11. Какого жанра фильмов больше всего?"
   ]
  },
  {
   "cell_type": "code",
   "execution_count": 65,
   "metadata": {
    "colab": {},
    "colab_type": "code",
    "id": "zsJAwJ8QVp_J"
   },
   "outputs": [
    {
     "data": {
      "text/plain": [
       "'Drama'"
      ]
     },
     "metadata": {},
     "output_type": "display_data"
    }
   ],
   "source": [
    "# эту задачу тоже можно решать разными подходами, попробуй реализовать разные варианты\n",
    "# если будешь добавлять функцию - выноси ее в предобработку что в начале\n",
    "ganres_count = []\n",
    "actions = ['Action', 'Adventure', 'Drama', 'Comedy', 'Thriller']\n",
    "for genres in actions:\n",
    "    ganres_count.append(len(data[data.genres.str.contains(genres)]))\n",
    "index = ganres_count.index(max(*ganres_count))\n",
    "answers['11'] = actions[index]\n",
    "display(answers['11'])"
   ]
  },
  {
   "cell_type": "markdown",
   "metadata": {
    "colab_type": "text",
    "id": "Ax6g2C8SVp_M"
   },
   "source": [
    "ВАРИАНТ 2"
   ]
  },
  {
   "cell_type": "code",
   "execution_count": null,
   "metadata": {
    "colab": {},
    "colab_type": "code",
    "id": "otO3SbrSVp_N"
   },
   "outputs": [],
   "source": []
  },
  {
   "cell_type": "markdown",
   "metadata": {
    "colab_type": "text",
    "id": "T9_bPWpkVp_Q"
   },
   "source": [
    "# 12. Фильмы какого жанра чаще всего становятся прибыльными? "
   ]
  },
  {
   "cell_type": "code",
   "execution_count": 67,
   "metadata": {
    "colab": {},
    "colab_type": "code",
    "id": "Tmt8MaK1Vp_R"
   },
   "outputs": [
    {
     "data": {
      "text/plain": [
       "'Drama'"
      ]
     },
     "metadata": {},
     "output_type": "display_data"
    }
   ],
   "source": [
    "temp = data[data.profit > 0]\n",
    "ganres_count = []\n",
    "actions = ['Action', 'Adventure', 'Drama', 'Comedy', 'Thriller']\n",
    "for genres in actions:\n",
    "    ganres_count.append(len(temp[temp.genres.str.contains(genres)]))\n",
    "index = ganres_count.index(max(*ganres_count))\n",
    "answers['12'] = actions[index]\n",
    "display(answers['12'])\n"
   ]
  },
  {
   "cell_type": "markdown",
   "metadata": {
    "colab_type": "text",
    "id": "0F23bgsDVp_U"
   },
   "source": [
    "# 13. У какого режиссера самые большие суммарные кассовые сборы?"
   ]
  },
  {
   "cell_type": "code",
   "execution_count": 71,
   "metadata": {
    "colab": {},
    "colab_type": "code",
    "id": "K6Z3J8ygVp_X"
   },
   "outputs": [
    {
     "data": {
      "text/plain": [
       "'Peter Jackson'"
      ]
     },
     "metadata": {},
     "output_type": "display_data"
    }
   ],
   "source": [
    "answers['13'] = data.groupby('director').sum().sort_values(['revenue'], ascending = False).index[0]\n",
    "display(answers['13'])"
   ]
  },
  {
   "cell_type": "markdown",
   "metadata": {
    "colab_type": "text",
    "id": "PsYC9FgRVp_a"
   },
   "source": [
    "# 14. Какой режисер снял больше всего фильмов в стиле Action?"
   ]
  },
  {
   "cell_type": "code",
   "execution_count": 81,
   "metadata": {
    "colab": {},
    "colab_type": "code",
    "id": "wd2M-wHeVp_b"
   },
   "outputs": [
    {
     "data": {
      "text/plain": [
       "6"
      ]
     },
     "metadata": {},
     "output_type": "display_data"
    },
    {
     "data": {
      "text/plain": [
       "4"
      ]
     },
     "metadata": {},
     "output_type": "display_data"
    },
    {
     "data": {
      "text/plain": [
       "6"
      ]
     },
     "metadata": {},
     "output_type": "display_data"
    },
    {
     "data": {
      "text/plain": [
       "3"
      ]
     },
     "metadata": {},
     "output_type": "display_data"
    },
    {
     "data": {
      "text/plain": [
       "5"
      ]
     },
     "metadata": {},
     "output_type": "display_data"
    },
    {
     "data": {
      "text/plain": [
       "Index(['Paul W.S. Anderson', 'Michael Bay', 'Ridley Scott', 'Antoine Fuqua',\n",
       "       'Robert Rodriguez', 'Zack Snyder', 'Andrzej Bartkowiak',\n",
       "       'Paul Greengrass', 'Peter Berg', 'Tony Scott',\n",
       "       ...\n",
       "       'Jay Roach', 'Jay Russell', 'Jeff Tremaine', 'Jeff Wadlow',\n",
       "       'Jim Gillespie', 'Jimmy Hayward', 'Joe Cornish',\n",
       "       'Joe Russo|Anthony Russo', 'Joe Wright', 'Jorma Taccone'],\n",
       "      dtype='object', name='director', length=345)"
      ]
     },
     "execution_count": 81,
     "metadata": {},
     "output_type": "execute_result"
    }
   ],
   "source": [
    "data[data.genres.str.contains(\"Action\")].groupby('director').count().sort_values(['genres'])\n",
    "temp = data[data.director == 'Ridley Scott']\n",
    "display(len(temp[temp.genres.str.contains('Action')]))\n",
    "temp = data[data.director == 'Guy Ritchie']\n",
    "display(len(temp[temp.genres.str.contains('Action')]))\n",
    "temp = data[data.director == 'Robert Rodriguez']\n",
    "display(len(temp[temp.genres.str.contains('Action')]))\n",
    "temp = data[data.director == 'Quentin Tarantino']\n",
    "display(len(temp[temp.genres.str.contains('Action')]))\n",
    "temp = data[data.director == 'Tony Scott']\n",
    "display(len(temp[temp.genres.str.contains('Action')]))\n",
    "answers['14'] = \"Ridley Scott\"\n",
    "data[data.genres.str.contains(\"Action\")].groupby('director').count().sort_values(['imdb_id'], ascending = False).index"
   ]
  },
  {
   "cell_type": "markdown",
   "metadata": {
    "colab_type": "text",
    "id": "PQ0KciD7Vp_f"
   },
   "source": [
    "# 15. Фильмы с каким актером принесли самые высокие кассовые сборы в 2012 году? "
   ]
  },
  {
   "cell_type": "code",
   "execution_count": 95,
   "metadata": {
    "colab": {},
    "colab_type": "code",
    "id": "aga62oeKVp_g"
   },
   "outputs": [
    {
     "data": {
      "text/plain": [
       "array(['Robert Downey Jr.|Chris Evans|Mark Ruffalo|Chris Hemsworth|Scarlett Johansson'],\n",
       "      dtype=object)"
      ]
     },
     "execution_count": 95,
     "metadata": {},
     "output_type": "execute_result"
    }
   ],
   "source": [
    "answers['15'] = \"Chris Hemsworth\"\n",
    "data[data.release_year == 2012].sort_values(['revenue'], ascending = False).cast.head(1).values"
   ]
  },
  {
   "cell_type": "markdown",
   "metadata": {
    "colab_type": "text",
    "id": "mWHyyL7QVp_j"
   },
   "source": [
    "# 16. Какой актер снялся в большем количестве высокобюджетных фильмов?"
   ]
  },
  {
   "cell_type": "code",
   "execution_count": 94,
   "metadata": {
    "colab": {},
    "colab_type": "code",
    "id": "qQtmHKTFVp_k"
   },
   "outputs": [
    {
     "data": {
      "text/plain": [
       "15"
      ]
     },
     "metadata": {},
     "output_type": "display_data"
    },
    {
     "data": {
      "text/plain": [
       "14"
      ]
     },
     "metadata": {},
     "output_type": "display_data"
    },
    {
     "data": {
      "text/plain": [
       "18"
      ]
     },
     "metadata": {},
     "output_type": "display_data"
    },
    {
     "data": {
      "text/plain": [
       "16"
      ]
     },
     "metadata": {},
     "output_type": "display_data"
    },
    {
     "data": {
      "text/plain": [
       "17"
      ]
     },
     "metadata": {},
     "output_type": "display_data"
    },
    {
     "data": {
      "text/plain": [
       "'Matt Damon'"
      ]
     },
     "metadata": {},
     "output_type": "display_data"
    }
   ],
   "source": [
    "temp = data[data.budget > data.budget.mean()]\n",
    "for actor in [\"Tom Cruise\", \"Mark Wahlberg\", \"Matt Damon\", \"Angelina Jolie\", \"Adam Sandler\"]:\n",
    "    display(len(temp[temp.cast.str.contains(actor)]))\n",
    "\n",
    "actors = []\n",
    "    \n",
    "for actor in temp.cast:\n",
    "    actor_arr = actor.split(\"|\")\n",
    "    actors += actor_arr\n",
    "    \n",
    "actors\n",
    "\n",
    "winner = [0, \"empty\"]\n",
    "\n",
    "for actor in set(actors):\n",
    "    if winner[0] < actors.count(actor):\n",
    "        winner[0] = actors.count(actor)\n",
    "        winner[1] = actor\n",
    "answers[16] = winner[1]\n",
    "display(answers[16])"
   ]
  },
  {
   "cell_type": "markdown",
   "metadata": {
    "colab_type": "text",
    "id": "NIh6AaW5Vp_n"
   },
   "source": [
    "\n",
    "# 17. В фильмах какого жанра больше всего снимался Nicolas Cage? "
   ]
  },
  {
   "cell_type": "code",
   "execution_count": 102,
   "metadata": {
    "colab": {},
    "colab_type": "code",
    "id": "H74SJDIBVp_n"
   },
   "outputs": [
    {
     "data": {
      "text/plain": [
       "'Action'"
      ]
     },
     "metadata": {},
     "output_type": "display_data"
    }
   ],
   "source": [
    "temp = data[data.cast.str.contains('Nicolas Cage')]\n",
    "\n",
    "winner_genre = [0, \"empty\"]\n",
    "\n",
    "for actor in [\"Drama\", \"Action\", \"Thriller\", \"Adventure\", \"Crime\"]:\n",
    "    if winner_genre[0] < len(temp[temp.genres.str.contains(actor)]):\n",
    "        winner_genre[0] = len(temp[temp.genres.str.contains(actor)])\n",
    "        winner_genre[1] = actor\n",
    "\n",
    "answers['17'] = winner_genre[1]\n",
    "display(answers['17'])"
   ]
  },
  {
   "cell_type": "markdown",
   "metadata": {
    "colab_type": "text",
    "id": "RqOmPRfWVp_q"
   },
   "source": [
    "# 18. Самый убыточный фильм от Paramount Pictures"
   ]
  },
  {
   "cell_type": "code",
   "execution_count": 104,
   "metadata": {
    "colab": {},
    "colab_type": "code",
    "id": "9E_B0Y96Vp_r"
   },
   "outputs": [
    {
     "data": {
      "text/plain": [
       "'K-19: The Widowmaker'"
      ]
     },
     "metadata": {},
     "output_type": "display_data"
    }
   ],
   "source": [
    "answers['18'] = data[data.production_companies.str.contains('Paramount Pictures')].sort_values(['profit']).original_title.values[0]\n",
    "display(answers['18'])"
   ]
  },
  {
   "cell_type": "markdown",
   "metadata": {
    "colab_type": "text",
    "id": "vS8Ur6ddVp_u"
   },
   "source": [
    "# 19. Какой год стал самым успешным по суммарным кассовым сборам?"
   ]
  },
  {
   "cell_type": "code",
   "execution_count": 109,
   "metadata": {
    "colab": {},
    "colab_type": "code",
    "id": "Dnbt4GdIVp_v"
   },
   "outputs": [
    {
     "data": {
      "text/plain": [
       "2015"
      ]
     },
     "metadata": {},
     "output_type": "display_data"
    }
   ],
   "source": [
    "answers['19'] = data.groupby('release_year').sum().sort_values(['revenue'], ascending = False).index[0]\n",
    "display(answers['19'])"
   ]
  },
  {
   "cell_type": "markdown",
   "metadata": {
    "colab_type": "text",
    "id": "JAzJh4QAVp_z"
   },
   "source": [
    "# 20. Какой самый прибыльный год для студии Warner Bros?"
   ]
  },
  {
   "cell_type": "code",
   "execution_count": 115,
   "metadata": {
    "colab": {},
    "colab_type": "code",
    "id": "wgVu02DEVp_0"
   },
   "outputs": [
    {
     "data": {
      "text/plain": [
       "2014"
      ]
     },
     "metadata": {},
     "output_type": "display_data"
    }
   ],
   "source": [
    "answers['20'] = data[data.production_companies.str.contains(\"Warner Bros\")].groupby('release_year').sum().sort_values(['profit'], ascending = False).index[0]\n",
    "display(answers['20'])"
   ]
  },
  {
   "cell_type": "markdown",
   "metadata": {
    "colab_type": "text",
    "id": "8Im1S2HRVp_4"
   },
   "source": [
    "# 21. В каком месяце за все годы суммарно вышло больше всего фильмов?"
   ]
  },
  {
   "cell_type": "code",
   "execution_count": 128,
   "metadata": {
    "colab": {},
    "colab_type": "code",
    "id": "lev6TH7gVp_4"
   },
   "outputs": [
    {
     "data": {
      "text/plain": [
       "'9'"
      ]
     },
     "metadata": {},
     "output_type": "display_data"
    }
   ],
   "source": [
    "data[\"release_months\"] = data.release_date.apply(lambda x: x.split(\"/\")[0])\n",
    "answers['21'] = data.groupby('release_months').count().imdb_id.sort_values(ascending = False).index[0]\n",
    "display(answers['21'])"
   ]
  },
  {
   "cell_type": "markdown",
   "metadata": {
    "colab_type": "text",
    "id": "uAJsZ_NeVp_7"
   },
   "source": [
    "# 22. Сколько суммарно вышло фильмов летом? (за июнь, июль, август)"
   ]
  },
  {
   "cell_type": "code",
   "execution_count": 136,
   "metadata": {
    "colab": {},
    "colab_type": "code",
    "id": "Aa-hEREoVp_8"
   },
   "outputs": [
    {
     "data": {
      "text/plain": [
       "450"
      ]
     },
     "metadata": {},
     "output_type": "display_data"
    }
   ],
   "source": [
    "data[\"release_months\"] = data.release_date.apply(lambda x: x.split(\"/\")[0])\n",
    "answers['22'] = data.groupby('release_months').imdb_id.count()[['6','7','8']].sum()\n",
    "display(answers['22'])"
   ]
  },
  {
   "cell_type": "markdown",
   "metadata": {
    "colab_type": "text",
    "id": "G94ppOY1VqAA"
   },
   "source": [
    "# 23. Для какого режиссера зима – самое продуктивное время года? "
   ]
  },
  {
   "cell_type": "code",
   "execution_count": 145,
   "metadata": {
    "colab": {},
    "colab_type": "code",
    "id": "RhNTsamuVqAB"
   },
   "outputs": [
    {
     "data": {
      "text/plain": [
       "'Peter Jackson'"
      ]
     },
     "metadata": {},
     "output_type": "display_data"
    }
   ],
   "source": [
    "temp = data.query('release_months in [\"12\", \"1\", \"2\"]')\n",
    "answers['23'] = temp.groupby(\"director\").count().sort_values(['release_year'], ascending = False).index[0]\n",
    "display(answers['23'])"
   ]
  },
  {
   "cell_type": "markdown",
   "metadata": {
    "colab_type": "text",
    "id": "RBo0JVjVVqAF"
   },
   "source": [
    "# 24. Какая студия дает самые длинные названия своим фильмам по количеству символов?"
   ]
  },
  {
   "cell_type": "code",
   "execution_count": 147,
   "metadata": {
    "colab": {},
    "colab_type": "code",
    "id": "QRGS8L0iVqAG"
   },
   "outputs": [
    {
     "data": {
      "text/plain": [
       "array(['Twentieth Century Fox Film Corporation|Four By Two Productions',\n",
       "       'Walt Disney|Walden Media',\n",
       "       'Walt Disney Pictures|21 Laps Entertainment|Jim Henson Company, The',\n",
       "       ...,\n",
       "       \"Twentieth Century Fox Film Corporation|Donners' Company|Bad Hat Harry Productions|Marvel Enterprises|XM2 Productions\",\n",
       "       'Warner Bros.',\n",
       "       'Focus Films|Starz Animation|Relativity Media|Tim Burton Productions|Arc Productions'],\n",
       "      dtype=object)"
      ]
     },
     "execution_count": 147,
     "metadata": {},
     "output_type": "execute_result"
    }
   ],
   "source": [
    "data['title_length'] = data.original_title.apply(lambda title: len(title))\n",
    "answers['24'] = 'Four By Two Productions'\n",
    "data.sort_values(['title_length'], ascending = False).production_companies.values"
   ]
  },
  {
   "cell_type": "markdown",
   "metadata": {
    "colab_type": "text",
    "id": "9G0hbvR7VqAK"
   },
   "source": [
    "# 25. Описание фильмов какой студии в среднем самые длинные по количеству слов?"
   ]
  },
  {
   "cell_type": "code",
   "execution_count": 149,
   "metadata": {
    "colab": {},
    "colab_type": "code",
    "id": "Ge2GsLNxVqAK"
   },
   "outputs": [
    {
     "data": {
      "text/plain": [
       "array(['Lions Gate Films|Lakeshore Entertainment|GreeneStreet Films|Midnight Picture Show',\n",
       "       'Fox Searchlight Pictures|Room 9 Entertainment', 'New Line Cinema',\n",
       "       ...,\n",
       "       'Cheyenne Enterprises|Epsilon Motion Pictures|Empire Pictures|Metro-Goldwyn-Mayer (MGM)|Hyde Park Entertainment',\n",
       "       'Motion Picture Corporation of America|Artisan Entertainment',\n",
       "       'Paramount Pictures|Plan B Entertainment|Regency Enterprises'],\n",
       "      dtype=object)"
      ]
     },
     "execution_count": 149,
     "metadata": {},
     "output_type": "execute_result"
    }
   ],
   "source": [
    "data['overview_length'] = data.overview.apply(lambda overview: len(overview))\n",
    "answers['25'] = 'Midnight Picture Show'\n",
    "data.sort_values(['overview_length'], ascending = False).production_companies.values"
   ]
  },
  {
   "cell_type": "markdown",
   "metadata": {
    "colab_type": "text",
    "id": "FJ1AFt90VqAP"
   },
   "source": [
    "# 26. Какие фильмы входят в 1 процент лучших по рейтингу? \n",
    "по vote_average"
   ]
  },
  {
   "cell_type": "code",
   "execution_count": 167,
   "metadata": {
    "colab": {},
    "colab_type": "code",
    "id": "8qmJVq4CVqAQ"
   },
   "outputs": [
    {
     "data": {
      "text/html": [
       "<div>\n",
       "<style scoped>\n",
       "    .dataframe tbody tr th:only-of-type {\n",
       "        vertical-align: middle;\n",
       "    }\n",
       "\n",
       "    .dataframe tbody tr th {\n",
       "        vertical-align: top;\n",
       "    }\n",
       "\n",
       "    .dataframe thead th {\n",
       "        text-align: right;\n",
       "    }\n",
       "</style>\n",
       "<table border=\"1\" class=\"dataframe\">\n",
       "  <thead>\n",
       "    <tr style=\"text-align: right;\">\n",
       "      <th></th>\n",
       "      <th>original_title</th>\n",
       "      <th>vote_average</th>\n",
       "    </tr>\n",
       "  </thead>\n",
       "  <tbody>\n",
       "    <tr>\n",
       "      <th>599</th>\n",
       "      <td>The Dark Knight</td>\n",
       "      <td>8.1</td>\n",
       "    </tr>\n",
       "    <tr>\n",
       "      <th>118</th>\n",
       "      <td>Interstellar</td>\n",
       "      <td>8.0</td>\n",
       "    </tr>\n",
       "    <tr>\n",
       "      <th>125</th>\n",
       "      <td>The Imitation Game</td>\n",
       "      <td>8.0</td>\n",
       "    </tr>\n",
       "    <tr>\n",
       "      <th>9</th>\n",
       "      <td>Inside Out</td>\n",
       "      <td>8.0</td>\n",
       "    </tr>\n",
       "    <tr>\n",
       "      <th>34</th>\n",
       "      <td>Room</td>\n",
       "      <td>8.0</td>\n",
       "    </tr>\n",
       "    <tr>\n",
       "      <th>1183</th>\n",
       "      <td>The Wolf of Wall Street</td>\n",
       "      <td>7.9</td>\n",
       "    </tr>\n",
       "    <tr>\n",
       "      <th>128</th>\n",
       "      <td>Gone Girl</td>\n",
       "      <td>7.9</td>\n",
       "    </tr>\n",
       "    <tr>\n",
       "      <th>1191</th>\n",
       "      <td>12 Years a Slave</td>\n",
       "      <td>7.9</td>\n",
       "    </tr>\n",
       "    <tr>\n",
       "      <th>119</th>\n",
       "      <td>Guardians of the Galaxy</td>\n",
       "      <td>7.9</td>\n",
       "    </tr>\n",
       "    <tr>\n",
       "      <th>1081</th>\n",
       "      <td>The Lord of the Rings: The Return of the King</td>\n",
       "      <td>7.9</td>\n",
       "    </tr>\n",
       "    <tr>\n",
       "      <th>1800</th>\n",
       "      <td>Memento</td>\n",
       "      <td>7.9</td>\n",
       "    </tr>\n",
       "    <tr>\n",
       "      <th>370</th>\n",
       "      <td>Inception</td>\n",
       "      <td>7.9</td>\n",
       "    </tr>\n",
       "    <tr>\n",
       "      <th>872</th>\n",
       "      <td>The Pianist</td>\n",
       "      <td>7.9</td>\n",
       "    </tr>\n",
       "    <tr>\n",
       "      <th>138</th>\n",
       "      <td>The Grand Budapest Hotel</td>\n",
       "      <td>7.9</td>\n",
       "    </tr>\n",
       "    <tr>\n",
       "      <th>1188</th>\n",
       "      <td>Her</td>\n",
       "      <td>7.8</td>\n",
       "    </tr>\n",
       "    <tr>\n",
       "      <th>28</th>\n",
       "      <td>Spotlight</td>\n",
       "      <td>7.8</td>\n",
       "    </tr>\n",
       "    <tr>\n",
       "      <th>124</th>\n",
       "      <td>Big Hero 6</td>\n",
       "      <td>7.8</td>\n",
       "    </tr>\n",
       "    <tr>\n",
       "      <th>177</th>\n",
       "      <td>The Fault in Our Stars</td>\n",
       "      <td>7.8</td>\n",
       "    </tr>\n",
       "  </tbody>\n",
       "</table>\n",
       "</div>"
      ],
      "text/plain": [
       "                                     original_title  vote_average\n",
       "599                                 The Dark Knight           8.1\n",
       "118                                    Interstellar           8.0\n",
       "125                              The Imitation Game           8.0\n",
       "9                                        Inside Out           8.0\n",
       "34                                             Room           8.0\n",
       "1183                        The Wolf of Wall Street           7.9\n",
       "128                                       Gone Girl           7.9\n",
       "1191                               12 Years a Slave           7.9\n",
       "119                         Guardians of the Galaxy           7.9\n",
       "1081  The Lord of the Rings: The Return of the King           7.9\n",
       "1800                                        Memento           7.9\n",
       "370                                       Inception           7.9\n",
       "872                                     The Pianist           7.9\n",
       "138                        The Grand Budapest Hotel           7.9\n",
       "1188                                            Her           7.8\n",
       "28                                        Spotlight           7.8\n",
       "124                                      Big Hero 6           7.8\n",
       "177                          The Fault in Our Stars           7.8"
      ]
     },
     "metadata": {},
     "output_type": "display_data"
    },
    {
     "data": {
      "text/plain": [
       "'Inside Out, The Dark Knight, 12 Years a Slave'"
      ]
     },
     "metadata": {},
     "output_type": "display_data"
    }
   ],
   "source": [
    "temp = data[['original_title', 'vote_average']].sort_values('vote_average', ascending = False).head(int(len(data) * 0.01))\n",
    "display(temp)\n",
    "answers['26'] = 'Inside Out, The Dark Knight, 12 Years a Slave';\n",
    "display(answers['26'])"
   ]
  },
  {
   "cell_type": "markdown",
   "metadata": {
    "colab_type": "text",
    "id": "MdXsUXbCVqAV"
   },
   "source": [
    "# 27. Какие актеры чаще всего снимаются в одном фильме вместе?\n"
   ]
  },
  {
   "cell_type": "markdown",
   "metadata": {
    "colab_type": "text",
    "id": "4ymnxEVoVqAW"
   },
   "source": [
    "ВАРИАНТ 2"
   ]
  },
  {
   "cell_type": "code",
   "execution_count": 155,
   "metadata": {},
   "outputs": [
    {
     "data": {
      "text/plain": [
       "0"
      ]
     },
     "metadata": {},
     "output_type": "display_data"
    },
    {
     "data": {
      "text/plain": [
       "6"
      ]
     },
     "metadata": {},
     "output_type": "display_data"
    },
    {
     "data": {
      "text/plain": [
       "5"
      ]
     },
     "metadata": {},
     "output_type": "display_data"
    },
    {
     "data": {
      "text/plain": [
       "0"
      ]
     },
     "metadata": {},
     "output_type": "display_data"
    },
    {
     "data": {
      "text/plain": [
       "0"
      ]
     },
     "metadata": {},
     "output_type": "display_data"
    }
   ],
   "source": [
    "display(len(data[data.cast.str.contains('Jonny Depp') & data.cast.str.contains('Helena Bonham Carter')]))\n",
    "display(len(data[data.cast.str.contains('Ben Stiller') & data.cast.str.contains('Owen Wilson')]))\n",
    "display(len(data[data.cast.str.contains('Vin Diesel') & data.cast.str.contains('Paul Walker')]))\n",
    "display(len(data[data.cast.str.contains('Adam Sendler') & data.cast.str.contains('Kevin James')]))\n",
    "display(len(data[data.cast.str.contains('Daniel Redcliffe') & data.cast.str.contains('Rupert Grint')]))\n",
    "answers['27'] = 'Ben Stiller & Owen Wilson'"
   ]
  },
  {
   "cell_type": "markdown",
   "metadata": {
    "colab_type": "text",
    "id": "U0nONFnGVqAX"
   },
   "source": [
    "# Submission"
   ]
  },
  {
   "cell_type": "code",
   "execution_count": 154,
   "metadata": {
    "colab": {},
    "colab_type": "code",
    "id": "IfcaRO9-VqAX",
    "outputId": "0f132912-32bb-4196-c98c-abfbc4ad5a5f"
   },
   "outputs": [
    {
     "data": {
      "text/plain": [
       "{'1': 'Pirates of the Caribbean: On Stranger Tides',\n",
       " '2': 'Gods and Generals',\n",
       " '3': 'Winnie the Pooh',\n",
       " '4': 109.6585494970884,\n",
       " '5': 107.0,\n",
       " '6': 'Avatar',\n",
       " '7': 'The Lone Ranger',\n",
       " '8': 1478,\n",
       " '9': 'The Dark Knight',\n",
       " '10': 'The Lone Ranger',\n",
       " '11': 'Drama',\n",
       " '12': 'Drama',\n",
       " '13': 'Peter Jackson',\n",
       " '14': 'Ridley Scott',\n",
       " 16: 'Matt Damon',\n",
       " '15': 'Chris Hemsworth',\n",
       " '17': 'Action',\n",
       " '18': 'K-19: The Widowmaker',\n",
       " '19': 2015,\n",
       " '20': 2014,\n",
       " '21': '9',\n",
       " '22': 450,\n",
       " '23': 'Peter Jackson',\n",
       " '24': 'Four By Two Productions',\n",
       " '25': 'Midnight Picture Show'}"
      ]
     },
     "execution_count": 154,
     "metadata": {},
     "output_type": "execute_result"
    }
   ],
   "source": [
    "# в конце можно посмотреть свои ответы к каждому вопросу\n",
    "answers"
   ]
  },
  {
   "cell_type": "code",
   "execution_count": 156,
   "metadata": {
    "colab": {},
    "colab_type": "code",
    "id": "SiRmHPl8VqAd"
   },
   "outputs": [
    {
     "data": {
      "text/plain": [
       "26"
      ]
     },
     "execution_count": 156,
     "metadata": {},
     "output_type": "execute_result"
    }
   ],
   "source": [
    "# и убедиться что ни чего не пропустил)\n",
    "len(answers)"
   ]
  },
  {
   "cell_type": "code",
   "execution_count": null,
   "metadata": {
    "colab": {},
    "colab_type": "code",
    "id": "uCfuTkRbVqAg"
   },
   "outputs": [],
   "source": [
    "# Последние 2 задание хотелось бы узнать оптимальное решение"
   ]
  },
  {
   "cell_type": "code",
   "execution_count": null,
   "metadata": {
    "colab": {},
    "colab_type": "code",
    "id": "Vwx3NrkSVqAl"
   },
   "outputs": [],
   "source": []
  }
 ],
 "metadata": {
  "colab": {
   "name": "Copy of [SF-DST] Movies IMBD v4.1 TEMPLATE.ipynb",
   "provenance": []
  },
  "kernelspec": {
   "display_name": "Python 3",
   "language": "python",
   "name": "python3"
  },
  "language_info": {
   "codemirror_mode": {
    "name": "ipython",
    "version": 3
   },
   "file_extension": ".py",
   "mimetype": "text/x-python",
   "name": "python",
   "nbconvert_exporter": "python",
   "pygments_lexer": "ipython3",
   "version": "3.8.8"
  }
 },
 "nbformat": 4,
 "nbformat_minor": 1
}
